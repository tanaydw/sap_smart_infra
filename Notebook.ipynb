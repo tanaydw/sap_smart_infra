{
 "cells": [
  {
   "cell_type": "markdown",
   "id": "published-cooperation",
   "metadata": {},
   "source": [
    "<h1><center>Smart Infrastructure Maintainance</center></h1>\n",
    "\n",
    "<div style=\"text-align: center\">\n",
    "    \n",
    "    Author - Tanay Dwivedi\n",
    "    University - Indian Institute of Technology Madras\n",
    "    Current Year - 4th \n",
    "    \n",
    "    Team Name - [Bracket] \n",
    "    Theme - Smart Infrastructure Maintainance\n",
    "    \n",
    "</div>"
   ]
  },
  {
   "cell_type": "markdown",
   "id": "close-plane",
   "metadata": {},
   "source": [
    "# Task 1 - Data Compression\n",
    "\n",
    "## 1. Setup\n",
    "\n",
    "Please follow the setup instructions mentioned in each section for successfully running this notebook.\n",
    "\n",
    "### 1.1 Dependencies\n",
    "\n",
    "Following packages are required to run this notebook. Please ensure that these are installed in your system. Uncomment the first cell to download using pip.\n",
    "\n",
    "- os (system package)\n",
    "- pickle (system package)\n",
    "- datetime (system package)\n",
    "- warnings(system package)\n",
    "- pandas \n",
    "- numpy\n",
    "- matplotlib\n",
    "- sklearn\n",
    "- tensorflow"
   ]
  },
  {
   "cell_type": "code",
   "execution_count": 1,
   "id": "optimum-stationery",
   "metadata": {},
   "outputs": [],
   "source": [
    "# Uncomment the below cells for installing packages\n",
    "# !pip install pandas\n",
    "# !pip install numpy\n",
    "# !pip install matplotlib\n",
    "# !pip install scikit-learn\n",
    "# !pip install tensorflow"
   ]
  },
  {
   "cell_type": "code",
   "execution_count": 2,
   "id": "annual-province",
   "metadata": {},
   "outputs": [],
   "source": [
    "import os\n",
    "import pickle\n",
    "import sklearn\n",
    "import datetime\n",
    "import warnings\n",
    "import numpy as np\n",
    "import pandas as pd\n",
    "import tensorflow as tf\n",
    "import matplotlib.pyplot as plt\n",
    "\n",
    "from scripts.sap_hackathon import *\n",
    "\n",
    "warnings.simplefilter(action='ignore')"
   ]
  },
  {
   "cell_type": "code",
   "execution_count": 3,
   "id": "finnish-insured",
   "metadata": {},
   "outputs": [],
   "source": [
    "# A helper function for calculating error\n",
    "def error(y_true, y_pred):\n",
    "    error = 0\n",
    "    for i in range(20):\n",
    "        error += np.sum(np.abs(np.sum(y_true[:, 3*i:3*(i+1)]**2, axis=1) - np.sum(y_pred[:, 3*i:3*(i+1)]**2, axis=1)))\n",
    "    return 100 * error / np.sum(y_true**2)"
   ]
  },
  {
   "cell_type": "code",
   "execution_count": 4,
   "id": "other-toddler",
   "metadata": {},
   "outputs": [],
   "source": [
    "def rmse(y_true, y_pred):\n",
    "    error = np.sum((np.sum(y_true**2, axis=1) - np.sum(y_pred ** 2, axis=1))**2)\n",
    "    return error / y_true.shape[0]"
   ]
  },
  {
   "cell_type": "markdown",
   "id": "certain-draft",
   "metadata": {},
   "source": [
    "### 1.2 Data Directory\n",
    "\n",
    "Please ensure that the scripts & dataset (both train and test) follows the following directory structure:-\n",
    "\n",
    "    |-- base_dir\n",
    "    \n",
    "        [Code]\n",
    "        |-- task_1_data_compression_notebook.ipynb (This notebook)\n",
    "        |-- scripts\n",
    "            |-- sap_hackathon.py\n",
    "            \n",
    "        [Model]\n",
    "        |-- model\n",
    "            |-- encoder.pkl\n",
    "            |-- decoder.pkl\n",
    "        \n",
    "        [Train/Test Data]\n",
    "        |-- LORD-6305-6000-69503\n",
    "            |-- year=2020\n",
    "                |-- month=10\n",
    "                    |-- day=19\n",
    "                        |-- hour=04\n",
    "                        |-- ... [All the hours]\n",
    "                        |-- hour=23\n",
    "                    |--... [All the Days]\n",
    "                    |-- day=25\n",
    "                    \n",
    "        |-- LORD-6305-6000-69504\n",
    "            |-- year=2020\n",
    "                |-- month=10\n",
    "                    |-- day=19\n",
    "                        |-- hour=04\n",
    "                        |-- ... [All the hours]\n",
    "                        |-- hour=23\n",
    "                    |--... [All the Days]\n",
    "                    |-- day=25\n",
    "        \n",
    "        |-- ... [All the Sensors]\n",
    "        \n",
    "        |-- LORD-6305-6182-92392\n",
    "            |-- year=2020\n",
    "                |-- month=10\n",
    "                    |-- day=19\n",
    "                        |-- hour=04\n",
    "                        |-- ... [All the hours]\n",
    "                        |-- hour=23\n",
    "                    |--... [All the Days]\n",
    "                    |-- day=25\n",
    "\n",
    "\n",
    "1. The data should reside in the structure shown above.\n",
    "2. The name of the sensors, like LORD-6305-6182-92392 remains the same in test data and train data.\n",
    "3. Please mention the time period of test data in the list in following cell (User Input)."
   ]
  },
  {
   "cell_type": "markdown",
   "id": "chemical-armor",
   "metadata": {},
   "source": [
    "### User Input"
   ]
  },
  {
   "cell_type": "code",
   "execution_count": 5,
   "id": "shaped-jesus",
   "metadata": {},
   "outputs": [],
   "source": [
    "# Year of the test data\n",
    "test_year = ['2020']   \n",
    "\n",
    "# Month of the test data\n",
    "test_month = ['10']\n",
    "\n",
    "# Date of the test data\n",
    "test_date = ['19']     \n",
    "\n",
    "# Time of the test data\n",
    "test_hour = ['05']     "
   ]
  },
  {
   "cell_type": "markdown",
   "id": "greatest-foster",
   "metadata": {},
   "source": [
    "## 2. Extract, Load, Transform (ELT)\n",
    "\n",
    "In this section, the data will be loaded <b>according to the time which are listed in the previous cell </b>. Note that 20 dataframes will be loaded, after which they will be concatenated to form a single dataframe containing all the 60 sensor readings given by their time-stamp. \n",
    "\n",
    "### 2.1 Transformation\n",
    "\n",
    "An accelerometer principally measures proper acceleration of the body on which it is installed. Thus the effect of acceleration due gravity would be included in the readings of the accelerometer. Since the orientation of the acceleormeter is not known beforehand, therefore as a first step, we <b>transform the axis of acceleormeters to align with the direction of gravity</b>. This is pictorically represented in the figure below:-\n",
    "\n",
    "<img src='./images/transformation.PNG' align=\"center\" height=\"230px\">\n",
    "\n",
    "The coordinate system (x, y, z) is transformed into (u, v, w) such that the 'w'-axis represents the direction of gravity. In the new transformed coordinate system, the mean acceleration on (u, v)- axis will be zero. With this transformation, it can be ensured that the 'w'-axis of all the 20 sensors point in the same direction. However, the the relative orientation of (u, v)-axis between different sensors could not be established.  \n",
    "\n",
    "After the transformation, the <b>50-th percentile of each sensor from each transformed axis</b>. This ensures that a zero mean signal is obtained which is later used as primary features in our model of data compression."
   ]
  },
  {
   "cell_type": "code",
   "execution_count": 6,
   "id": "north-ottawa",
   "metadata": {},
   "outputs": [
    {
     "data": {
      "text/html": [
       "<div>\n",
       "<style scoped>\n",
       "    .dataframe tbody tr th:only-of-type {\n",
       "        vertical-align: middle;\n",
       "    }\n",
       "\n",
       "    .dataframe tbody tr th {\n",
       "        vertical-align: top;\n",
       "    }\n",
       "\n",
       "    .dataframe thead th {\n",
       "        text-align: right;\n",
       "    }\n",
       "</style>\n",
       "<table border=\"1\" class=\"dataframe\">\n",
       "  <thead>\n",
       "    <tr style=\"text-align: right;\">\n",
       "      <th></th>\n",
       "      <th>_t</th>\n",
       "      <th>x_20</th>\n",
       "      <th>y_20</th>\n",
       "      <th>z_20</th>\n",
       "    </tr>\n",
       "  </thead>\n",
       "  <tbody>\n",
       "    <tr>\n",
       "      <th>0</th>\n",
       "      <td>1603083943234375</td>\n",
       "      <td>3.498033e-09</td>\n",
       "      <td>7.329017e-03</td>\n",
       "      <td>0.000114</td>\n",
       "    </tr>\n",
       "    <tr>\n",
       "      <th>1</th>\n",
       "      <td>1603083943250000</td>\n",
       "      <td>-2.405678e-03</td>\n",
       "      <td>7.349223e-03</td>\n",
       "      <td>-0.002394</td>\n",
       "    </tr>\n",
       "    <tr>\n",
       "      <th>2</th>\n",
       "      <td>1603083943265625</td>\n",
       "      <td>-2.405678e-03</td>\n",
       "      <td>4.906223e-03</td>\n",
       "      <td>-0.002414</td>\n",
       "    </tr>\n",
       "    <tr>\n",
       "      <th>3</th>\n",
       "      <td>1603083943281250</td>\n",
       "      <td>-4.865412e-03</td>\n",
       "      <td>2.020832e-05</td>\n",
       "      <td>-0.002508</td>\n",
       "    </tr>\n",
       "    <tr>\n",
       "      <th>4</th>\n",
       "      <td>1603083943296875</td>\n",
       "      <td>2.405706e-03</td>\n",
       "      <td>-2.019520e-05</td>\n",
       "      <td>0.002561</td>\n",
       "    </tr>\n",
       "    <tr>\n",
       "      <th>...</th>\n",
       "      <td>...</td>\n",
       "      <td>...</td>\n",
       "      <td>...</td>\n",
       "      <td>...</td>\n",
       "    </tr>\n",
       "    <tr>\n",
       "      <th>230395</th>\n",
       "      <td>1603087543406250</td>\n",
       "      <td>5.405626e-05</td>\n",
       "      <td>2.020832e-05</td>\n",
       "      <td>-0.002400</td>\n",
       "    </tr>\n",
       "    <tr>\n",
       "      <th>230396</th>\n",
       "      <td>1603087543421875</td>\n",
       "      <td>-2.405678e-03</td>\n",
       "      <td>2.020832e-05</td>\n",
       "      <td>-0.002454</td>\n",
       "    </tr>\n",
       "    <tr>\n",
       "      <th>230397</th>\n",
       "      <td>1603087543437500</td>\n",
       "      <td>-2.459731e-03</td>\n",
       "      <td>-2.443005e-03</td>\n",
       "      <td>-0.000020</td>\n",
       "    </tr>\n",
       "    <tr>\n",
       "      <th>230398</th>\n",
       "      <td>1603087543453125</td>\n",
       "      <td>3.498033e-09</td>\n",
       "      <td>2.636912e-09</td>\n",
       "      <td>0.000054</td>\n",
       "    </tr>\n",
       "    <tr>\n",
       "      <th>230399</th>\n",
       "      <td>1603087543468750</td>\n",
       "      <td>-2.405678e-03</td>\n",
       "      <td>2.020832e-05</td>\n",
       "      <td>-0.002454</td>\n",
       "    </tr>\n",
       "  </tbody>\n",
       "</table>\n",
       "<p>230400 rows × 4 columns</p>\n",
       "</div>"
      ],
      "text/plain": [
       "                      _t          x_20          y_20      z_20\n",
       "0       1603083943234375  3.498033e-09  7.329017e-03  0.000114\n",
       "1       1603083943250000 -2.405678e-03  7.349223e-03 -0.002394\n",
       "2       1603083943265625 -2.405678e-03  4.906223e-03 -0.002414\n",
       "3       1603083943281250 -4.865412e-03  2.020832e-05 -0.002508\n",
       "4       1603083943296875  2.405706e-03 -2.019520e-05  0.002561\n",
       "...                  ...           ...           ...       ...\n",
       "230395  1603087543406250  5.405626e-05  2.020832e-05 -0.002400\n",
       "230396  1603087543421875 -2.405678e-03  2.020832e-05 -0.002454\n",
       "230397  1603087543437500 -2.459731e-03 -2.443005e-03 -0.000020\n",
       "230398  1603087543453125  3.498033e-09  2.636912e-09  0.000054\n",
       "230399  1603087543468750 -2.405678e-03  2.020832e-05 -0.002454\n",
       "\n",
       "[230400 rows x 4 columns]"
      ]
     },
     "metadata": {},
     "output_type": "display_data"
    }
   ],
   "source": [
    "test_df_list = []\n",
    "for s, sensor_name in enumerate(sensors):\n",
    "    temp_df = read_test_data(sensor_name, test_year, test_month, test_date, test_hour, s)\n",
    "    test_df_list.append(temp_df)\n",
    "    \n",
    "# Printing the transformed data for 20-th sensor\n",
    "display(test_df_list[19])"
   ]
  },
  {
   "cell_type": "code",
   "execution_count": 7,
   "id": "attended-cancellation",
   "metadata": {},
   "outputs": [
    {
     "name": "stdout",
     "output_type": "stream",
     "text": [
      "(198881, 61)\n"
     ]
    }
   ],
   "source": [
    "# Concatenating into single dataframe\n",
    "# NOTE - Time stamps will be dropped for which there is atleast one missing data\n",
    "common_time = estimate_common_time(test_df_list)\n",
    "\n",
    "test_df = pd.DataFrame(common_time, columns=['_t']).sort_values(by='_t')\n",
    "for i in range(len(test_df_list)):\n",
    "    test_df = pd.merge(test_df, test_df_list[i], on='_t', how='left')\n",
    "\n",
    "print(test_df.shape)"
   ]
  },
  {
   "cell_type": "markdown",
   "id": "wrapped-crest",
   "metadata": {},
   "source": [
    "## 3. Encoder Model (Data Compression)\n",
    "\n",
    "The encoder model is saved as './model/encoder.pkl'. This model is essentially <b>sklearn's PCA class object</b> which is saved as pkl. Final results is also summarized at the end of this cell.\n",
    "\n",
    "For detailed explaination of the model and training steps, please refer to train notebook.\n",
    "\n",
    "The encoded data is saved as CSV file as './data/encoded_data.csv'."
   ]
  },
  {
   "cell_type": "code",
   "execution_count": 8,
   "id": "narrative-skirt",
   "metadata": {},
   "outputs": [],
   "source": [
    "X = test_df.drop(['_t'], axis=1).to_numpy()\n",
    "\n",
    "# Loading encoder and transforming to encodings\n",
    "encoder = pickle.load(open('model/encoder.pkl', mode='rb'))\n",
    "X_trans = encoder.transform(X)"
   ]
  },
  {
   "cell_type": "code",
   "execution_count": 9,
   "id": "cellular-infrared",
   "metadata": {},
   "outputs": [
    {
     "name": "stdout",
     "output_type": "stream",
     "text": [
      "Original components length =  60\n",
      "Encoded components length = 30\n",
      "Compression Ratio = 2.0\n"
     ]
    }
   ],
   "source": [
    "# Compression Results\n",
    "print('Original components length = ', X.shape[1])\n",
    "print('Encoded components length =', X_trans.shape[1])\n",
    "print('Compression Ratio =', X.shape[1] / X_trans.shape[1])\n",
    "\n",
    "# Saving the encoded data under './data/encoded_data.csv'\n",
    "encoded_data = pd.DataFrame(X_trans, columns=['ch' + str(i+1) for i in range(X_trans.shape[1])])\n",
    "encoded_data = pd.concat([test_df[['_t']], encoded_data], axis=1)"
   ]
  },
  {
   "cell_type": "code",
   "execution_count": 10,
   "id": "rapid-request",
   "metadata": {},
   "outputs": [],
   "source": [
    "if not os.path.exists('./data/'):\n",
    "    os.mkdir('./data/')\n",
    "    \n",
    "encoded_data.to_csv('./data/encoded_data.csv', index=False)"
   ]
  },
  {
   "cell_type": "markdown",
   "id": "natural-student",
   "metadata": {},
   "source": [
    "## 4. Decoder Model (Data Reconstruction)\n",
    "\n",
    "The decoder model is saved as './model/decoder.pkl'. This model is essentially <b>sklearn's PCA class object</b> which is saved as pkl. Final results is also summarized at the end of this cell.\n",
    "\n",
    "For detailed explaination of the model and training steps, please refer to train notebook.\n",
    "\n",
    "The decoded data is saved as CSV file as './data/decoded_data.csv'."
   ]
  },
  {
   "cell_type": "code",
   "execution_count": 11,
   "id": "prescribed-liabilities",
   "metadata": {},
   "outputs": [],
   "source": [
    "decoder = pickle.load(open('model/decoder.pkl', mode='rb'))\n",
    "X_decoded = decoder.inverse_transform(X_trans)"
   ]
  },
  {
   "cell_type": "code",
   "execution_count": 12,
   "id": "biblical-observer",
   "metadata": {},
   "outputs": [],
   "source": [
    "# Saving the decoded data under './data/decoded_data.csv'\n",
    "decoded_data = pd.DataFrame(X_decoded, columns=test_df.drop(['_t'], axis=1).columns)\n",
    "decoded_data = pd.concat([test_df[['_t']], decoded_data], axis=1)"
   ]
  },
  {
   "cell_type": "code",
   "execution_count": 13,
   "id": "thrown-dividend",
   "metadata": {},
   "outputs": [],
   "source": [
    "df_list=[]\n",
    "for s in range(1, 21):\n",
    "    features = ['_t', 'x_' + str(s), 'y_' + str(s), 'z_' + str(s)]\n",
    "    df_list.append(project_back(decoded_data[features], s))"
   ]
  },
  {
   "cell_type": "code",
   "execution_count": 14,
   "id": "challenging-agreement",
   "metadata": {
    "scrolled": false
   },
   "outputs": [
    {
     "data": {
      "text/html": [
       "<div>\n",
       "<style scoped>\n",
       "    .dataframe tbody tr th:only-of-type {\n",
       "        vertical-align: middle;\n",
       "    }\n",
       "\n",
       "    .dataframe tbody tr th {\n",
       "        vertical-align: top;\n",
       "    }\n",
       "\n",
       "    .dataframe thead th {\n",
       "        text-align: right;\n",
       "    }\n",
       "</style>\n",
       "<table border=\"1\" class=\"dataframe\">\n",
       "  <thead>\n",
       "    <tr style=\"text-align: right;\">\n",
       "      <th></th>\n",
       "      <th>_t</th>\n",
       "      <th>ch1</th>\n",
       "      <th>ch2</th>\n",
       "      <th>ch3</th>\n",
       "    </tr>\n",
       "  </thead>\n",
       "  <tbody>\n",
       "    <tr>\n",
       "      <th>0</th>\n",
       "      <td>1603084186890625</td>\n",
       "      <td>9.819226</td>\n",
       "      <td>-0.010412</td>\n",
       "      <td>0.123305</td>\n",
       "    </tr>\n",
       "    <tr>\n",
       "      <th>1</th>\n",
       "      <td>1603084186906250</td>\n",
       "      <td>9.816955</td>\n",
       "      <td>-0.008863</td>\n",
       "      <td>0.121842</td>\n",
       "    </tr>\n",
       "    <tr>\n",
       "      <th>2</th>\n",
       "      <td>1603084186921875</td>\n",
       "      <td>9.818844</td>\n",
       "      <td>-0.009375</td>\n",
       "      <td>0.122924</td>\n",
       "    </tr>\n",
       "    <tr>\n",
       "      <th>3</th>\n",
       "      <td>1603084186937500</td>\n",
       "      <td>9.816694</td>\n",
       "      <td>-0.009602</td>\n",
       "      <td>0.123168</td>\n",
       "    </tr>\n",
       "    <tr>\n",
       "      <th>4</th>\n",
       "      <td>1603084186953125</td>\n",
       "      <td>9.819378</td>\n",
       "      <td>-0.010513</td>\n",
       "      <td>0.121334</td>\n",
       "    </tr>\n",
       "    <tr>\n",
       "      <th>...</th>\n",
       "      <td>...</td>\n",
       "      <td>...</td>\n",
       "      <td>...</td>\n",
       "      <td>...</td>\n",
       "    </tr>\n",
       "    <tr>\n",
       "      <th>198876</th>\n",
       "      <td>1603087294640625</td>\n",
       "      <td>9.819024</td>\n",
       "      <td>-0.012034</td>\n",
       "      <td>0.121234</td>\n",
       "    </tr>\n",
       "    <tr>\n",
       "      <th>198877</th>\n",
       "      <td>1603087294656250</td>\n",
       "      <td>9.819319</td>\n",
       "      <td>-0.010054</td>\n",
       "      <td>0.121423</td>\n",
       "    </tr>\n",
       "    <tr>\n",
       "      <th>198878</th>\n",
       "      <td>1603087294671875</td>\n",
       "      <td>9.819719</td>\n",
       "      <td>-0.011433</td>\n",
       "      <td>0.119884</td>\n",
       "    </tr>\n",
       "    <tr>\n",
       "      <th>198879</th>\n",
       "      <td>1603087294687500</td>\n",
       "      <td>9.816917</td>\n",
       "      <td>-0.008783</td>\n",
       "      <td>0.121371</td>\n",
       "    </tr>\n",
       "    <tr>\n",
       "      <th>198880</th>\n",
       "      <td>1603087294703125</td>\n",
       "      <td>9.819360</td>\n",
       "      <td>-0.009340</td>\n",
       "      <td>0.121785</td>\n",
       "    </tr>\n",
       "  </tbody>\n",
       "</table>\n",
       "<p>198881 rows × 4 columns</p>\n",
       "</div>"
      ],
      "text/plain": [
       "                      _t       ch1       ch2       ch3\n",
       "0       1603084186890625  9.819226 -0.010412  0.123305\n",
       "1       1603084186906250  9.816955 -0.008863  0.121842\n",
       "2       1603084186921875  9.818844 -0.009375  0.122924\n",
       "3       1603084186937500  9.816694 -0.009602  0.123168\n",
       "4       1603084186953125  9.819378 -0.010513  0.121334\n",
       "...                  ...       ...       ...       ...\n",
       "198876  1603087294640625  9.819024 -0.012034  0.121234\n",
       "198877  1603087294656250  9.819319 -0.010054  0.121423\n",
       "198878  1603087294671875  9.819719 -0.011433  0.119884\n",
       "198879  1603087294687500  9.816917 -0.008783  0.121371\n",
       "198880  1603087294703125  9.819360 -0.009340  0.121785\n",
       "\n",
       "[198881 rows x 4 columns]"
      ]
     },
     "execution_count": 14,
     "metadata": {},
     "output_type": "execute_result"
    }
   ],
   "source": [
    "df_list[1]"
   ]
  },
  {
   "cell_type": "code",
   "execution_count": 15,
   "id": "executive-sound",
   "metadata": {},
   "outputs": [],
   "source": [
    "# Saving the decoded values as CSV file\n",
    "for s, sensor_name in enumerate(sensors):\n",
    "    if not os.path.exists('./data/'):\n",
    "        os.mkdir('./data/')\n",
    "    df_list[0].to_csv('./data/' + sensor_name + '.csv', index=False)"
   ]
  },
  {
   "cell_type": "markdown",
   "id": "stylish-faculty",
   "metadata": {},
   "source": [
    "## 5. Metric Computation\n",
    "\n",
    "Meaduring the percentage error due to data compression and reconstruction using the formula given in the problem statement."
   ]
  },
  {
   "cell_type": "code",
   "execution_count": 16,
   "id": "restricted-corporation",
   "metadata": {
    "scrolled": false
   },
   "outputs": [
    {
     "name": "stdout",
     "output_type": "stream",
     "text": [
      "Error in data reconstruction = 8.335618939594557 %\n"
     ]
    }
   ],
   "source": [
    "print('Error in data reconstruction =', error(X, X_decoded), '%')"
   ]
  },
  {
   "cell_type": "code",
   "execution_count": 17,
   "id": "diverse-therapist",
   "metadata": {},
   "outputs": [
    {
     "data": {
      "image/png": "[encoded data removed]",
      "text/plain": [
       "<Figure size 432x288 with 1 Axes>"
      ]
     },
     "metadata": {
      "needs_background": "light"
     },
     "output_type": "display_data"
    }
   ],
   "source": [
    "# Visualizing reconstruction for 'x_1'\n",
    "idx = 12\n",
    "\n",
    "plt.figure()\n",
    "plt.plot(X[:, idx], color='blue', label='original data')\n",
    "plt.plot(X_decoded[:, idx], color='orange', label='after reconstruction')\n",
    "plt.legend(loc=1)\n",
    "plt.show()"
   ]
  },
  {
   "cell_type": "markdown",
   "id": "difficult-harvest",
   "metadata": {},
   "source": [
    "# Task 2 - Sensor Network Robustness"
   ]
  },
  {
   "cell_type": "markdown",
   "id": "guilty-boundary",
   "metadata": {},
   "source": [
    "## 1. Setup\n",
    "\n",
    "The setup instruction are same as that for the Task 1. Please follow the instruction given in the Task 1 properly to run this Task.\n",
    "\n",
    "1. The data should reside in the directory structure shown above.\n",
    "2. The name of the sensors, like LORD-6305-6182-92392 remains the same in test data and train data.\n",
    "3. Please mention the time period of test data in the list in following cell (User Input)."
   ]
  },
  {
   "cell_type": "markdown",
   "id": "funny-sauce",
   "metadata": {},
   "source": [
    "### User Input:"
   ]
  },
  {
   "cell_type": "code",
   "execution_count": 18,
   "id": "common-frequency",
   "metadata": {},
   "outputs": [],
   "source": [
    "# Year of the test data\n",
    "test_year = ['2020']   \n",
    "\n",
    "# Month of the test data\n",
    "test_month = ['10']\n",
    "\n",
    "# Date of the test data\n",
    "test_date = ['19']     \n",
    "\n",
    "# Time of the test data\n",
    "test_hour = ['05']\n",
    "\n",
    "# The sensor on which anomaly has to be checked\n",
    "test_sensor = 'LORD-6305-6000-69503'"
   ]
  },
  {
   "cell_type": "markdown",
   "id": "together-caribbean",
   "metadata": {},
   "source": [
    "## 2. Extract, Load, Transform (ELT)\n",
    "\n",
    "The preprocessing steps performed in this task are essentially the same as that in Task 1. Please refer to Section 2 of task 1 for a detailed overview."
   ]
  },
  {
   "cell_type": "code",
   "execution_count": 19,
   "id": "twenty-italic",
   "metadata": {},
   "outputs": [
    {
     "data": {
      "text/html": [
       "<div>\n",
       "<style scoped>\n",
       "    .dataframe tbody tr th:only-of-type {\n",
       "        vertical-align: middle;\n",
       "    }\n",
       "\n",
       "    .dataframe tbody tr th {\n",
       "        vertical-align: top;\n",
       "    }\n",
       "\n",
       "    .dataframe thead th {\n",
       "        text-align: right;\n",
       "    }\n",
       "</style>\n",
       "<table border=\"1\" class=\"dataframe\">\n",
       "  <thead>\n",
       "    <tr style=\"text-align: right;\">\n",
       "      <th></th>\n",
       "      <th>_t</th>\n",
       "      <th>x_2</th>\n",
       "      <th>y_2</th>\n",
       "      <th>z_2</th>\n",
       "    </tr>\n",
       "  </thead>\n",
       "  <tbody>\n",
       "    <tr>\n",
       "      <th>0</th>\n",
       "      <td>1603083724031250</td>\n",
       "      <td>-3.901076e-12</td>\n",
       "      <td>2.447351e-03</td>\n",
       "      <td>0.000030</td>\n",
       "    </tr>\n",
       "    <tr>\n",
       "      <th>1</th>\n",
       "      <td>1603083724046875</td>\n",
       "      <td>-3.901076e-12</td>\n",
       "      <td>1.799510e-10</td>\n",
       "      <td>0.000000</td>\n",
       "    </tr>\n",
       "    <tr>\n",
       "      <th>2</th>\n",
       "      <td>1603083724062500</td>\n",
       "      <td>-3.901076e-12</td>\n",
       "      <td>1.799510e-10</td>\n",
       "      <td>0.000000</td>\n",
       "    </tr>\n",
       "    <tr>\n",
       "      <th>3</th>\n",
       "      <td>1603083724078125</td>\n",
       "      <td>-2.304381e-06</td>\n",
       "      <td>2.477745e-03</td>\n",
       "      <td>-0.002424</td>\n",
       "    </tr>\n",
       "    <tr>\n",
       "      <th>4</th>\n",
       "      <td>1603083724093750</td>\n",
       "      <td>-2.304381e-06</td>\n",
       "      <td>3.039501e-05</td>\n",
       "      <td>-0.002455</td>\n",
       "    </tr>\n",
       "    <tr>\n",
       "      <th>...</th>\n",
       "      <td>...</td>\n",
       "      <td>...</td>\n",
       "      <td>...</td>\n",
       "      <td>...</td>\n",
       "    </tr>\n",
       "    <tr>\n",
       "      <th>230395</th>\n",
       "      <td>1603087323953125</td>\n",
       "      <td>-7.329784e-03</td>\n",
       "      <td>9.118466e-05</td>\n",
       "      <td>-0.007357</td>\n",
       "    </tr>\n",
       "    <tr>\n",
       "      <th>230396</th>\n",
       "      <td>1603087323968750</td>\n",
       "      <td>-4.881913e-03</td>\n",
       "      <td>-2.447358e-03</td>\n",
       "      <td>-0.000026</td>\n",
       "    </tr>\n",
       "    <tr>\n",
       "      <th>230397</th>\n",
       "      <td>1603087323984375</td>\n",
       "      <td>-9.752305e-03</td>\n",
       "      <td>-2.599332e-03</td>\n",
       "      <td>0.012252</td>\n",
       "    </tr>\n",
       "    <tr>\n",
       "      <th>230398</th>\n",
       "      <td>1603087324000000</td>\n",
       "      <td>4.877304e-03</td>\n",
       "      <td>6.078984e-05</td>\n",
       "      <td>-0.004914</td>\n",
       "    </tr>\n",
       "    <tr>\n",
       "      <th>230399</th>\n",
       "      <td>1603087324015625</td>\n",
       "      <td>-9.768436e-03</td>\n",
       "      <td>7.402849e-03</td>\n",
       "      <td>-0.004809</td>\n",
       "    </tr>\n",
       "  </tbody>\n",
       "</table>\n",
       "<p>230400 rows × 4 columns</p>\n",
       "</div>"
      ],
      "text/plain": [
       "                      _t           x_2           y_2       z_2\n",
       "0       1603083724031250 -3.901076e-12  2.447351e-03  0.000030\n",
       "1       1603083724046875 -3.901076e-12  1.799510e-10  0.000000\n",
       "2       1603083724062500 -3.901076e-12  1.799510e-10  0.000000\n",
       "3       1603083724078125 -2.304381e-06  2.477745e-03 -0.002424\n",
       "4       1603083724093750 -2.304381e-06  3.039501e-05 -0.002455\n",
       "...                  ...           ...           ...       ...\n",
       "230395  1603087323953125 -7.329784e-03  9.118466e-05 -0.007357\n",
       "230396  1603087323968750 -4.881913e-03 -2.447358e-03 -0.000026\n",
       "230397  1603087323984375 -9.752305e-03 -2.599332e-03  0.012252\n",
       "230398  1603087324000000  4.877304e-03  6.078984e-05 -0.004914\n",
       "230399  1603087324015625 -9.768436e-03  7.402849e-03 -0.004809\n",
       "\n",
       "[230400 rows x 4 columns]"
      ]
     },
     "metadata": {},
     "output_type": "display_data"
    }
   ],
   "source": [
    "test_df_list = []\n",
    "skip_sensor = sensors.index(test_sensor)\n",
    "for s, sensor_name in enumerate(sensors):\n",
    "    if s != skip_sensor:\n",
    "        temp_df = read_test_data(sensor_name, test_year, test_month, test_date, test_hour, s)\n",
    "        test_df_list.append(temp_df)\n",
    "\n",
    "# Printing the transformed data for 20-th sensor\n",
    "display(test_df_list[0])"
   ]
  },
  {
   "cell_type": "code",
   "execution_count": 20,
   "id": "cognitive-section",
   "metadata": {},
   "outputs": [
    {
     "name": "stdout",
     "output_type": "stream",
     "text": [
      "(198881, 58)\n"
     ]
    }
   ],
   "source": [
    "# Concatenating into single dataframe\n",
    "# NOTE - Time stamps will be dropped for which there is atleast one missing data\n",
    "common_time = estimate_common_time(test_df_list)\n",
    "\n",
    "test_df = pd.DataFrame(common_time, columns=['_t']).sort_values(by='_t')\n",
    "for i in range(len(test_df_list)):\n",
    "    test_df = pd.merge(test_df, test_df_list[i], on='_t', how='left')\n",
    "\n",
    "print(test_df.shape)"
   ]
  },
  {
   "cell_type": "markdown",
   "id": "prescription-dominant",
   "metadata": {},
   "source": [
    "## 3. Model - Multilayer Perceptron (MLP)\n",
    "\n",
    "The final predictions are saved under 'data/predictions.csv'. These can be used by the user to compare the data for test case."
   ]
  },
  {
   "cell_type": "code",
   "execution_count": 21,
   "id": "olive-current",
   "metadata": {},
   "outputs": [],
   "source": [
    "X = test_df.drop(['_t'], axis=1).to_numpy()\n",
    "\n",
    "model = tf.keras.models.load_model('model/model_task_' + str(skip_sensor+1), compile=False)\n",
    "X_predicted = model.predict(X)"
   ]
  },
  {
   "cell_type": "code",
   "execution_count": 22,
   "id": "metallic-shore",
   "metadata": {},
   "outputs": [
    {
     "data": {
      "text/html": [
       "<div>\n",
       "<style scoped>\n",
       "    .dataframe tbody tr th:only-of-type {\n",
       "        vertical-align: middle;\n",
       "    }\n",
       "\n",
       "    .dataframe tbody tr th {\n",
       "        vertical-align: top;\n",
       "    }\n",
       "\n",
       "    .dataframe thead th {\n",
       "        text-align: right;\n",
       "    }\n",
       "</style>\n",
       "<table border=\"1\" class=\"dataframe\">\n",
       "  <thead>\n",
       "    <tr style=\"text-align: right;\">\n",
       "      <th></th>\n",
       "      <th>_t</th>\n",
       "      <th>ch1</th>\n",
       "      <th>ch2</th>\n",
       "      <th>ch3</th>\n",
       "    </tr>\n",
       "  </thead>\n",
       "  <tbody>\n",
       "    <tr>\n",
       "      <th>0</th>\n",
       "      <td>1603084186890625</td>\n",
       "      <td>9.822381</td>\n",
       "      <td>0.159587</td>\n",
       "      <td>0.127127</td>\n",
       "    </tr>\n",
       "    <tr>\n",
       "      <th>1</th>\n",
       "      <td>1603084186906250</td>\n",
       "      <td>9.816688</td>\n",
       "      <td>0.157533</td>\n",
       "      <td>0.125269</td>\n",
       "    </tr>\n",
       "    <tr>\n",
       "      <th>2</th>\n",
       "      <td>1603084186921875</td>\n",
       "      <td>9.817215</td>\n",
       "      <td>0.159864</td>\n",
       "      <td>0.127284</td>\n",
       "    </tr>\n",
       "    <tr>\n",
       "      <th>3</th>\n",
       "      <td>1603084186937500</td>\n",
       "      <td>9.813652</td>\n",
       "      <td>0.156323</td>\n",
       "      <td>0.125373</td>\n",
       "    </tr>\n",
       "    <tr>\n",
       "      <th>4</th>\n",
       "      <td>1603084186953125</td>\n",
       "      <td>9.820212</td>\n",
       "      <td>0.157496</td>\n",
       "      <td>0.125879</td>\n",
       "    </tr>\n",
       "    <tr>\n",
       "      <th>...</th>\n",
       "      <td>...</td>\n",
       "      <td>...</td>\n",
       "      <td>...</td>\n",
       "      <td>...</td>\n",
       "    </tr>\n",
       "    <tr>\n",
       "      <th>198876</th>\n",
       "      <td>1603087294640625</td>\n",
       "      <td>9.817586</td>\n",
       "      <td>0.157222</td>\n",
       "      <td>0.127248</td>\n",
       "    </tr>\n",
       "    <tr>\n",
       "      <th>198877</th>\n",
       "      <td>1603087294656250</td>\n",
       "      <td>9.817419</td>\n",
       "      <td>0.155053</td>\n",
       "      <td>0.125807</td>\n",
       "    </tr>\n",
       "    <tr>\n",
       "      <th>198878</th>\n",
       "      <td>1603087294671875</td>\n",
       "      <td>9.815001</td>\n",
       "      <td>0.157422</td>\n",
       "      <td>0.124537</td>\n",
       "    </tr>\n",
       "    <tr>\n",
       "      <th>198879</th>\n",
       "      <td>1603087294687500</td>\n",
       "      <td>9.817573</td>\n",
       "      <td>0.160745</td>\n",
       "      <td>0.124468</td>\n",
       "    </tr>\n",
       "    <tr>\n",
       "      <th>198880</th>\n",
       "      <td>1603087294703125</td>\n",
       "      <td>9.812412</td>\n",
       "      <td>0.158643</td>\n",
       "      <td>0.124304</td>\n",
       "    </tr>\n",
       "  </tbody>\n",
       "</table>\n",
       "<p>198881 rows × 4 columns</p>\n",
       "</div>"
      ],
      "text/plain": [
       "                      _t       ch1       ch2       ch3\n",
       "0       1603084186890625  9.822381  0.159587  0.127127\n",
       "1       1603084186906250  9.816688  0.157533  0.125269\n",
       "2       1603084186921875  9.817215  0.159864  0.127284\n",
       "3       1603084186937500  9.813652  0.156323  0.125373\n",
       "4       1603084186953125  9.820212  0.157496  0.125879\n",
       "...                  ...       ...       ...       ...\n",
       "198876  1603087294640625  9.817586  0.157222  0.127248\n",
       "198877  1603087294656250  9.817419  0.155053  0.125807\n",
       "198878  1603087294671875  9.815001  0.157422  0.124537\n",
       "198879  1603087294687500  9.817573  0.160745  0.124468\n",
       "198880  1603087294703125  9.812412  0.158643  0.124304\n",
       "\n",
       "[198881 rows x 4 columns]"
      ]
     },
     "metadata": {},
     "output_type": "display_data"
    }
   ],
   "source": [
    "pred_df = test_df[['_t']]\n",
    "pred_df = pd.concat([pred_df, pd.DataFrame(\n",
    "    X_predicted, columns=['x_' + str(skip_sensor+1), 'y_' + str(skip_sensor+1), 'z_' + str(skip_sensor+1)])], axis=1)\n",
    "decoded_df = project_back(pred_df, skip_sensor + 1)\n",
    "display(decoded_df)"
   ]
  },
  {
   "cell_type": "code",
   "execution_count": 23,
   "id": "concrete-questionnaire",
   "metadata": {},
   "outputs": [],
   "source": [
    "if not os.path.exists('./data/'):\n",
    "    os.mkdir('./data/')\n",
    "    \n",
    "decoded_df.to_csv('./data/predictions_' + str(skip_sensor + 1) + '.csv', index=False)"
   ]
  },
  {
   "cell_type": "markdown",
   "id": "photographic-tenant",
   "metadata": {},
   "source": [
    "## 4. Result Analysis"
   ]
  },
  {
   "cell_type": "code",
   "execution_count": 24,
   "id": "featured-voice",
   "metadata": {},
   "outputs": [
    {
     "data": {
      "text/html": [
       "<div>\n",
       "<style scoped>\n",
       "    .dataframe tbody tr th:only-of-type {\n",
       "        vertical-align: middle;\n",
       "    }\n",
       "\n",
       "    .dataframe tbody tr th {\n",
       "        vertical-align: top;\n",
       "    }\n",
       "\n",
       "    .dataframe thead th {\n",
       "        text-align: right;\n",
       "    }\n",
       "</style>\n",
       "<table border=\"1\" class=\"dataframe\">\n",
       "  <thead>\n",
       "    <tr style=\"text-align: right;\">\n",
       "      <th></th>\n",
       "      <th>_t</th>\n",
       "      <th>ch1</th>\n",
       "      <th>ch2</th>\n",
       "      <th>ch3</th>\n",
       "    </tr>\n",
       "  </thead>\n",
       "  <tbody>\n",
       "    <tr>\n",
       "      <th>0</th>\n",
       "      <td>1603084186890625</td>\n",
       "      <td>9.817719</td>\n",
       "      <td>0.157688</td>\n",
       "      <td>0.126001</td>\n",
       "    </tr>\n",
       "    <tr>\n",
       "      <th>1</th>\n",
       "      <td>1603084186906250</td>\n",
       "      <td>9.817719</td>\n",
       "      <td>0.157688</td>\n",
       "      <td>0.126001</td>\n",
       "    </tr>\n",
       "    <tr>\n",
       "      <th>2</th>\n",
       "      <td>1603084186921875</td>\n",
       "      <td>9.817719</td>\n",
       "      <td>0.157688</td>\n",
       "      <td>0.126001</td>\n",
       "    </tr>\n",
       "    <tr>\n",
       "      <th>3</th>\n",
       "      <td>1603084186937500</td>\n",
       "      <td>9.817719</td>\n",
       "      <td>0.157688</td>\n",
       "      <td>0.126001</td>\n",
       "    </tr>\n",
       "    <tr>\n",
       "      <th>4</th>\n",
       "      <td>1603084186953125</td>\n",
       "      <td>9.817719</td>\n",
       "      <td>0.160139</td>\n",
       "      <td>0.126001</td>\n",
       "    </tr>\n",
       "    <tr>\n",
       "      <th>...</th>\n",
       "      <td>...</td>\n",
       "      <td>...</td>\n",
       "      <td>...</td>\n",
       "      <td>...</td>\n",
       "    </tr>\n",
       "    <tr>\n",
       "      <th>198876</th>\n",
       "      <td>1603087294640625</td>\n",
       "      <td>9.817719</td>\n",
       "      <td>0.155237</td>\n",
       "      <td>0.126001</td>\n",
       "    </tr>\n",
       "    <tr>\n",
       "      <th>198877</th>\n",
       "      <td>1603087294656250</td>\n",
       "      <td>9.817719</td>\n",
       "      <td>0.157688</td>\n",
       "      <td>0.126001</td>\n",
       "    </tr>\n",
       "    <tr>\n",
       "      <th>198878</th>\n",
       "      <td>1603087294671875</td>\n",
       "      <td>9.817719</td>\n",
       "      <td>0.157688</td>\n",
       "      <td>0.126001</td>\n",
       "    </tr>\n",
       "    <tr>\n",
       "      <th>198879</th>\n",
       "      <td>1603087294687500</td>\n",
       "      <td>9.817719</td>\n",
       "      <td>0.157688</td>\n",
       "      <td>0.123554</td>\n",
       "    </tr>\n",
       "    <tr>\n",
       "      <th>198880</th>\n",
       "      <td>1603087294703125</td>\n",
       "      <td>9.817719</td>\n",
       "      <td>0.160139</td>\n",
       "      <td>0.126001</td>\n",
       "    </tr>\n",
       "  </tbody>\n",
       "</table>\n",
       "<p>198881 rows × 4 columns</p>\n",
       "</div>"
      ],
      "text/plain": [
       "                      _t       ch1       ch2       ch3\n",
       "0       1603084186890625  9.817719  0.157688  0.126001\n",
       "1       1603084186906250  9.817719  0.157688  0.126001\n",
       "2       1603084186921875  9.817719  0.157688  0.126001\n",
       "3       1603084186937500  9.817719  0.157688  0.126001\n",
       "4       1603084186953125  9.817719  0.160139  0.126001\n",
       "...                  ...       ...       ...       ...\n",
       "198876  1603087294640625  9.817719  0.155237  0.126001\n",
       "198877  1603087294656250  9.817719  0.157688  0.126001\n",
       "198878  1603087294671875  9.817719  0.157688  0.126001\n",
       "198879  1603087294687500  9.817719  0.157688  0.123554\n",
       "198880  1603087294703125  9.817719  0.160139  0.126001\n",
       "\n",
       "[198881 rows x 4 columns]"
      ]
     },
     "metadata": {},
     "output_type": "display_data"
    }
   ],
   "source": [
    "# Displaying actual ground truth\n",
    "ground_truth = project_back(read_test_data(test_sensor, test_year, test_month, test_date, \n",
    "                                           test_hour, skip_sensor), skip_sensor+1)\n",
    "\n",
    "ground_truth = ground_truth[ground_truth['_t'].isin(common_time)].reset_index(drop=True)\n",
    "display(ground_truth)"
   ]
  },
  {
   "cell_type": "code",
   "execution_count": 25,
   "id": "formed-prime",
   "metadata": {},
   "outputs": [
    {
     "name": "stdout",
     "output_type": "stream",
     "text": [
      "Mean Squared Error = 0.0915703236221832\n"
     ]
    }
   ],
   "source": [
    "# Calculating mean squared Error\n",
    "y_true = ground_truth.drop(['_t'], axis=1).to_numpy()\n",
    "y_pred = decoded_df.drop(['_t'], axis=1).to_numpy()\n",
    "\n",
    "print('Mean Squared Error =', rmse(y_true, y_pred))"
   ]
  },
  {
   "cell_type": "code",
   "execution_count": 26,
   "id": "recreational-scholar",
   "metadata": {},
   "outputs": [
    {
     "data": {
      "image/png": "[encoded data removed]",
      "text/plain": [
       "<Figure size 432x288 with 1 Axes>"
      ]
     },
     "metadata": {
      "needs_background": "light"
     },
     "output_type": "display_data"
    }
   ],
   "source": [
    "# Visualizing reconstruction for 'x_1'\n",
    "idx = 1\n",
    "\n",
    "plt.figure()\n",
    "plt.plot(y_true[:, idx], color='blue', label='original data')\n",
    "plt.plot(y_pred[:, idx], color='orange', label='predicted_data')\n",
    "plt.legend(loc=1)\n",
    "plt.show()"
   ]
  },
  {
   "cell_type": "code",
   "execution_count": null,
   "id": "external-synthetic",
   "metadata": {},
   "outputs": [],
   "source": []
  }
 ],
 "metadata": {
  "kernelspec": {
   "display_name": "Python 3",
   "language": "python",
   "name": "python3"
  },
  "language_info": {
   "codemirror_mode": {
    "name": "ipython",
    "version": 3
   },
   "file_extension": ".py",
   "mimetype": "text/x-python",
   "name": "python",
   "nbconvert_exporter": "python",
   "pygments_lexer": "ipython3",
   "version": "3.8.7"
  }
 },
 "nbformat": 4,
 "nbformat_minor": 5
}
